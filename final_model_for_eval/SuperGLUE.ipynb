{
 "cells": [
  {
   "cell_type": "markdown",
   "metadata": {},
   "source": [
    "Running the SuperGLUE Baseline tests"
   ]
  },
  {
   "cell_type": "code",
   "execution_count": 1,
   "metadata": {},
   "outputs": [
    {
     "name": "stderr",
     "output_type": "stream",
     "text": [
      "Some weights of DistilBertForSequenceClassification were not initialized from the model checkpoint at ./ and are newly initialized: ['classifier.bias', 'classifier.weight', 'pre_classifier.bias', 'pre_classifier.weight']\n",
      "You should probably TRAIN this model on a down-stream task to be able to use it for predictions and inference.\n",
      "C:\\Users\\rebec\\AppData\\Local\\Packages\\PythonSoftwareFoundation.Python.3.12_qbz5n2kfra8p0\\LocalCache\\local-packages\\Python312\\site-packages\\accelerate\\accelerator.py:436: FutureWarning: Passing the following arguments to `Accelerator` is deprecated and will be removed in version 1.0 of Accelerate: dict_keys(['dispatch_batches', 'split_batches', 'even_batches', 'use_seedable_sampler']). Please pass an `accelerate.DataLoaderConfiguration` instead: \n",
      "dataloader_config = DataLoaderConfiguration(dispatch_batches=None, split_batches=False, even_batches=True, use_seedable_sampler=True)\n",
      "  warnings.warn(\n"
     ]
    },
    {
     "data": {
      "application/vnd.jupyter.widget-view+json": {
       "model_id": "3f876da3ef2f49549b85f8fe1e8a3ba4",
       "version_major": 2,
       "version_minor": 0
      },
      "text/plain": [
       "  0%|          | 0/52 [00:00<?, ?it/s]"
      ]
     },
     "metadata": {},
     "output_type": "display_data"
    },
    {
     "name": "stderr",
     "output_type": "stream",
     "text": [
      "C:\\Users\\rebec\\AppData\\Local\\Temp\\ipykernel_39536\\179944294.py:17: FutureWarning: load_metric is deprecated and will be removed in the next major version of datasets. Use 'evaluate.load' instead, from the new library 🤗 Evaluate: https://huggingface.co/docs/evaluate\n",
      "  metric = load_metric('super_glue', task)\n",
      "C:\\Users\\rebec\\AppData\\Local\\Packages\\PythonSoftwareFoundation.Python.3.12_qbz5n2kfra8p0\\LocalCache\\local-packages\\Python312\\site-packages\\datasets\\load.py:756: FutureWarning: The repository for super_glue contains custom code which must be executed to correctly load the metric. You can inspect the repository content at https://raw.githubusercontent.com/huggingface/datasets/2.18.0/metrics/super_glue/super_glue.py\n",
      "You can avoid this message in future by passing the argument `trust_remote_code=True`.\n",
      "Passing `trust_remote_code=True` will be mandatory to load this metric from the next major release of `datasets`.\n",
      "  warnings.warn(\n"
     ]
    },
    {
     "name": "stdout",
     "output_type": "stream",
     "text": [
      "Results for boolq:\n",
      "eval_loss: 0.6994401216506958\n",
      "eval_accuracy: 0.43761467889908257\n",
      "eval_runtime: 447.9487\n",
      "eval_samples_per_second: 7.3\n",
      "eval_steps_per_second: 0.116\n",
      "task: boolq\n"
     ]
    },
    {
     "data": {
      "application/vnd.jupyter.widget-view+json": {
       "model_id": "3bdd0d64a432431790a1db649695e087",
       "version_major": 2,
       "version_minor": 0
      },
      "text/plain": [
       "Map:   0%|          | 0/250 [00:00<?, ? examples/s]"
      ]
     },
     "metadata": {},
     "output_type": "display_data"
    },
    {
     "name": "stdout",
     "output_type": "stream",
     "text": [
      "Failed to process cb: 'question'\n"
     ]
    },
    {
     "data": {
      "application/vnd.jupyter.widget-view+json": {
       "model_id": "e681742846bc4a4ab12dfb1a85aa3d1e",
       "version_major": 2,
       "version_minor": 0
      },
      "text/plain": [
       "Map:   0%|          | 0/400 [00:00<?, ? examples/s]"
      ]
     },
     "metadata": {},
     "output_type": "display_data"
    },
    {
     "name": "stdout",
     "output_type": "stream",
     "text": [
      "Failed to process copa: 'sentence'\n"
     ]
    },
    {
     "data": {
      "application/vnd.jupyter.widget-view+json": {
       "model_id": "75757685bf9c42b9a1e97b9ac23dc5e4",
       "version_major": 2,
       "version_minor": 0
      },
      "text/plain": [
       "Map:   0%|          | 0/2490 [00:00<?, ? examples/s]"
      ]
     },
     "metadata": {},
     "output_type": "display_data"
    },
    {
     "name": "stdout",
     "output_type": "stream",
     "text": [
      "Failed to process rte: 'question'\n"
     ]
    },
    {
     "data": {
      "application/vnd.jupyter.widget-view+json": {
       "model_id": "e87aaeca3b244a569ff136a579b619e8",
       "version_major": 2,
       "version_minor": 0
      },
      "text/plain": [
       "Map:   0%|          | 0/5428 [00:00<?, ? examples/s]"
      ]
     },
     "metadata": {},
     "output_type": "display_data"
    },
    {
     "name": "stdout",
     "output_type": "stream",
     "text": [
      "Failed to process wic: 'question'\n"
     ]
    },
    {
     "data": {
      "application/vnd.jupyter.widget-view+json": {
       "model_id": "a90a695db56a46ffab0d6f9c7545c0ce",
       "version_major": 2,
       "version_minor": 0
      },
      "text/plain": [
       "Map:   0%|          | 0/554 [00:00<?, ? examples/s]"
      ]
     },
     "metadata": {},
     "output_type": "display_data"
    },
    {
     "name": "stdout",
     "output_type": "stream",
     "text": [
      "Failed to process wsc: 'question'\n",
      "super_glue_evaluation_results.csv\n"
     ]
    }
   ],
   "source": [
    "from transformers import DistilBertTokenizer, DistilBertForSequenceClassification, Trainer, TrainingArguments\n",
    "from datasets import load_dataset, load_metric\n",
    "import numpy as np\n",
    "import pandas as pd\n",
    "\n",
    "# Load the tokenizer and model from the current directory\n",
    "tokenizer = DistilBertTokenizer.from_pretrained(\"./\")\n",
    "model = DistilBertForSequenceClassification.from_pretrained(\"./\")\n",
    "\n",
    "# List of SuperGLUE tasks\n",
    "tasks = ['boolq', 'cb', 'copa', 'multirc', 'record', 'rte', 'wic', 'wsc']\n",
    "\n",
    "# Define the compute metrics function for SuperGLUE\n",
    "def compute_metrics(eval_pred):\n",
    "    logits, labels = eval_pred\n",
    "    predictions = np.argmax(logits, axis=-1)\n",
    "    metric = load_metric('super_glue', task)\n",
    "    return metric.compute(predictions=predictions, references=labels)\n",
    "\n",
    "results = []\n",
    "\n",
    "for task in tasks:\n",
    "    # Load dataset and metric\n",
    "    try:\n",
    "        dataset = load_dataset('super_glue', task)\n",
    "        # Handling different dataset structures in SuperGLUE\n",
    "        if task in ['record', 'multirc']:\n",
    "            # Special handling for tasks that require different processing\n",
    "            continue  # For simplicity, skipping complex tasks like ReCoRD and MultiRC here\n",
    "        else:\n",
    "            # Prepare data similarly to GLUE\n",
    "            tokenized_datasets = dataset.map(lambda examples: tokenizer(examples['question'], examples['passage'] if 'passage' in examples else examples['sentence'], padding=\"max_length\", truncation=True), batched=True)\n",
    "            tokenized_datasets = tokenized_datasets.remove_columns([col for col in tokenized_datasets['train'].column_names if col not in ['label', 'input_ids', 'attention_mask']])\n",
    "            tokenized_datasets.set_format('torch')\n",
    "\n",
    "        # Training Arguments\n",
    "        training_args = TrainingArguments(\n",
    "            output_dir=f'./results/{task}',\n",
    "            per_device_eval_batch_size=64,\n",
    "            do_train=False,\n",
    "            do_eval=True\n",
    "        )\n",
    "\n",
    "        # Initialize Trainer\n",
    "        trainer = Trainer(\n",
    "            model=model,\n",
    "            args=training_args,\n",
    "            compute_metrics=compute_metrics,\n",
    "            eval_dataset=tokenized_datasets['validation']\n",
    "        )\n",
    "\n",
    "        # Evaluate\n",
    "        eval_result = trainer.evaluate()\n",
    "        eval_result['task'] = task\n",
    "        results.append(eval_result)\n",
    "\n",
    "        # Print out results\n",
    "        print(f\"Results for {task}:\")\n",
    "        for key, value in eval_result.items():\n",
    "            print(f\"{key}: {value}\")\n",
    "    except Exception as e:\n",
    "        print(f\"Failed to process {task}: {str(e)}\")\n",
    "\n",
    "# Save results to a CSV\n",
    "df = pd.DataFrame(results)\n",
    "df.to_csv('super_glue_evaluation_results.csv')\n",
    "print(\"super_glue_evaluation_results.csv\")\n"
   ]
  }
 ],
 "metadata": {
  "kernelspec": {
   "display_name": "cuda-gpt",
   "language": "python",
   "name": "cuda"
  },
  "language_info": {
   "codemirror_mode": {
    "name": "ipython",
    "version": 3
   },
   "file_extension": ".py",
   "mimetype": "text/x-python",
   "name": "python",
   "nbconvert_exporter": "python",
   "pygments_lexer": "ipython3",
   "version": "3.12.3"
  }
 },
 "nbformat": 4,
 "nbformat_minor": 2
}
